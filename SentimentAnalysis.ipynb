{
 "cells": [
  {
   "cell_type": "markdown",
   "metadata": {},
   "source": [
    "Goald of this notebook is to get the sentiment of a tweet. This is done by labelling those tweets with only positive emojis as positive, and those with only negative as negative. Once this ground truth is generated we can train a model to get the sentiment.  \n",
    "In order to get an interpretable model, logistic regressin with L1 regularisation is applied in order to get a sparse (and hence even more interpretable) solution."
   ]
  },
  {
   "cell_type": "code",
   "execution_count": 2,
   "metadata": {
    "collapsed": true
   },
   "outputs": [],
   "source": [
    "import nltk\n",
    "from nltk.corpus import stopwords\n",
    "import re"
   ]
  },
  {
   "cell_type": "code",
   "execution_count": 3,
   "metadata": {
    "collapsed": true
   },
   "outputs": [],
   "source": [
    "import commands as cmd\n",
    "\n",
    "root_path = cmd.getoutput('pwd')[:cmd.getoutput('pwd').find('/databeers/')] + '/databeers'\n",
    "\n",
    "import sys\n",
    "sys.path.append(root_path)"
   ]
  },
  {
   "cell_type": "code",
   "execution_count": 4,
   "metadata": {
    "collapsed": true
   },
   "outputs": [],
   "source": [
    "import commands\n",
    "import csv\n",
    "import pandas as pd\n",
    "import numpy as np\n",
    "from datetime import datetime, timedelta\n",
    "from matplotlib import pyplot as plt\n",
    "%matplotlib inline\n",
    "\n",
    "from src.read_write_utils import *\n",
    "from src.analysis_utils import *\n",
    "from src.utils import *"
   ]
  },
  {
   "cell_type": "code",
   "execution_count": 5,
   "metadata": {
    "collapsed": true
   },
   "outputs": [],
   "source": [
    "begin_time = datetime(2016, 7, 26)\n",
    "end_time = datetime(2016, 8, 1)\n",
    "ta = TweetsAnalysis(begin_time, end_time, root_path)"
   ]
  },
  {
   "cell_type": "code",
   "execution_count": 6,
   "metadata": {
    "collapsed": false
   },
   "outputs": [],
   "source": [
    "country_code_dict = {\"es\": \"spanish\", \"pt\": \"portuguese\", \"fr\": \"french\", \"de\": \"german\",\n",
    " \"it\": \"italian\", \"nl\": \"dutch\", \"tr\": \"turkish\", \"ru\": \"russian\"}"
   ]
  },
  {
   "cell_type": "code",
   "execution_count": 7,
   "metadata": {
    "collapsed": false
   },
   "outputs": [
    {
     "name": "stdout",
     "output_type": "stream",
     "text": [
      "1009658\n",
      "657091\n"
     ]
    }
   ],
   "source": [
    "df = load_joined_df(begin_time, end_time, root_path=root_path, columns = [\"text\", \"id_str\", \"lang\"])\n",
    "print len(df)\n",
    "df = df[df[\"lang_x\"] == \"en\"]\n",
    "print len(df)"
   ]
  },
  {
   "cell_type": "code",
   "execution_count": 8,
   "metadata": {
    "collapsed": false
   },
   "outputs": [
    {
     "data": {
      "text/plain": [
       "153"
      ]
     },
     "execution_count": 8,
     "metadata": {},
     "output_type": "execute_result"
    }
   ],
   "source": [
    "len(stopwords.words(\"english\"))"
   ]
  },
  {
   "cell_type": "code",
   "execution_count": 9,
   "metadata": {
    "collapsed": false
   },
   "outputs": [],
   "source": [
    "def preprocess_tweet(raw_tweet, language_code):\n",
    "    # Remove non-letters        \n",
    "    letters_only = re.sub(\"[^a-zA-Z#]\", \" \", raw_tweet) \n",
    "    # Convert to lower case, split into individual words\n",
    "    words = letters_only.lower().split()\n",
    "    # Use set since it is hash based and hence faster\n",
    "    stops = set(stopwords.words(country_code_dict.get(language_code, \"english\")))             \n",
    "    # Remove stop words\n",
    "    meaningful_words = [w for w in words if not w in stops]\n",
    "    return \" \".join(meaningful_words)  "
   ]
  },
  {
   "cell_type": "code",
   "execution_count": 10,
   "metadata": {
    "collapsed": false
   },
   "outputs": [],
   "source": [
    "df[\"cleaned_text\"] = np.vectorize(preprocess_tweet)(df['text'], df['lang_x'])"
   ]
  },
  {
   "cell_type": "code",
   "execution_count": 12,
   "metadata": {
    "collapsed": false
   },
   "outputs": [
    {
     "name": "stderr",
     "output_type": "stream",
     "text": [
      "/home/paul/anaconda2/lib/python2.7/site-packages/ipykernel/__main__.py:1: UserWarning: This pattern has match groups. To actually get the groups, use str.extract.\n",
      "  if __name__ == '__main__':\n",
      "/home/paul/anaconda2/lib/python2.7/site-packages/ipykernel/__main__.py:2: UserWarning: This pattern has match groups. To actually get the groups, use str.extract.\n",
      "  from ipykernel import kernelapp as app\n"
     ]
    }
   ],
   "source": [
    "df[\"pos\"] = df['text'].str.contains(pos_emojis)\n",
    "df[\"neg\"] = df['text'].str.contains(neg_emojis)\n",
    "        "
   ]
  },
  {
   "cell_type": "code",
   "execution_count": 13,
   "metadata": {
    "collapsed": false
   },
   "outputs": [
    {
     "name": "stdout",
     "output_type": "stream",
     "text": [
      "32345\n"
     ]
    }
   ],
   "source": [
    "filtered_df = df[np.vectorize(np.logical_xor)(df[\"pos\"], df[\"neg\"])]\n",
    "print len(filtered_df)"
   ]
  },
  {
   "cell_type": "code",
   "execution_count": 16,
   "metadata": {
    "collapsed": false
   },
   "outputs": [
    {
     "name": "stderr",
     "output_type": "stream",
     "text": [
      "/home/paul/Documents/databeers/src/analysis_utils.py:50: SettingWithCopyWarning: \n",
      "A value is trying to be set on a copy of a slice from a DataFrame.\n",
      "Try using .loc[row_indexer,col_indexer] = value instead\n",
      "\n",
      "See the caveats in the documentation: http://pandas.pydata.org/pandas-docs/stable/indexing.html#indexing-view-versus-copy\n",
      "  df[\"tweet_clean\"] = np.vectorize(TweetsAnalysis.preprocess_tweet)(df[text_col], df[lang_col])\n"
     ]
    },
    {
     "name": "stdout",
     "output_type": "stream",
     "text": [
      "3.7393078804 cleaned tweets\n",
      "12.2426900864 created lsh\n",
      "True     16571\n",
      "False    15774\n",
      "Name: select, dtype: int64\n",
      "0.107950925827 selected df\n"
     ]
    },
    {
     "name": "stderr",
     "output_type": "stream",
     "text": [
      "/home/paul/Documents/databeers/src/analysis_utils.py:68: SettingWithCopyWarning: \n",
      "A value is trying to be set on a copy of a slice from a DataFrame.\n",
      "Try using .loc[row_indexer,col_indexer] = value instead\n",
      "\n",
      "See the caveats in the documentation: http://pandas.pydata.org/pandas-docs/stable/indexing.html#indexing-view-versus-copy\n",
      "  df['select'] = pd.Series([idx_selected.get(idx, False) for idx in df_indices], index=df_indices)\n"
     ]
    }
   ],
   "source": [
    "cleaned_df = remove_similar_tweets(filtered_df)"
   ]
  },
  {
   "cell_type": "code",
   "execution_count": 17,
   "metadata": {
    "collapsed": false
   },
   "outputs": [
    {
     "data": {
      "text/plain": [
       "Index([u'lang_x', u'user_id', u'text', u'day_str', u'id_str_x', u'lang_y',\n",
       "       u'id', u'id_str_y', u'cleaned_text', u'pos', u'neg', u'tweet_clean',\n",
       "       u'select'],\n",
       "      dtype='object')"
      ]
     },
     "execution_count": 17,
     "metadata": {},
     "output_type": "execute_result"
    }
   ],
   "source": [
    "filtered_df.columns"
   ]
  },
  {
   "cell_type": "code",
   "execution_count": 18,
   "metadata": {
    "collapsed": true
   },
   "outputs": [],
   "source": [
    "df_cleaned_lsh = filtered_df"
   ]
  },
  {
   "cell_type": "markdown",
   "metadata": {},
   "source": [
    "## create features for LR via Bag of Words"
   ]
  },
  {
   "cell_type": "code",
   "execution_count": 74,
   "metadata": {
    "collapsed": false
   },
   "outputs": [],
   "source": [
    "from sklearn.feature_extraction.text import CountVectorizer\n",
    "n_words = 300\n",
    "vectorizer = CountVectorizer(analyzer = \"word\",   \n",
    "                             tokenizer = None,    \n",
    "                             preprocessor = None, \n",
    "                             stop_words = [\"rt\", \"smh\", \"tf\", \"dm\"],   \n",
    "                             max_features = n_words)\n",
    "\n"
   ]
  },
  {
   "cell_type": "code",
   "execution_count": 75,
   "metadata": {
    "collapsed": false
   },
   "outputs": [],
   "source": [
    "msk = np.random.rand(len(cleaned_df)) < 0.9\n",
    "train_data_features = vectorizer.fit_transform(cleaned_df[\"tweet_clean\"][msk])\n",
    "test_data_features = vectorizer.transform(cleaned_df[\"tweet_clean\"][~msk])\n"
   ]
  },
  {
   "cell_type": "code",
   "execution_count": 76,
   "metadata": {
    "collapsed": false
   },
   "outputs": [
    {
     "name": "stdout",
     "output_type": "stream",
     "text": [
      "amp 1077 0.0724618179372\n",
      "beer 13101 0.881450581982\n",
      "co 5726 0.385251967974\n",
      "drink 770 0.0518064993608\n",
      "drinking 940 0.063244297921\n",
      "https 5773 0.38841418287\n",
      "like 883 0.059409271345\n"
     ]
    }
   ],
   "source": [
    "# also remove very frequent words since they do not add more value\n",
    "idx_to_remove = []\n",
    "for idx, zipped in enumerate(zip(vectorizer.get_feature_names(), np.asarray(np.sum(train_data_features, axis=0))[0])):\n",
    "    word, n = zipped\n",
    "                            \n",
    "    if n *1.0 / train_data_features.shape[0] > 0.05:\n",
    "        print word, n, n * 1.0/ train_data_features.shape[0]\n",
    "        idx_to_remove.append(idx)"
   ]
  },
  {
   "cell_type": "code",
   "execution_count": 77,
   "metadata": {
    "collapsed": false
   },
   "outputs": [
    {
     "data": {
      "text/plain": [
       "[7, 20, 48, 66, 67, 141, 155]"
      ]
     },
     "execution_count": 77,
     "metadata": {},
     "output_type": "execute_result"
    }
   ],
   "source": [
    "idx_to_remove"
   ]
  },
  {
   "cell_type": "code",
   "execution_count": 78,
   "metadata": {
    "collapsed": false
   },
   "outputs": [
    {
     "data": {
      "text/plain": [
       "(14863, 300)"
      ]
     },
     "execution_count": 78,
     "metadata": {},
     "output_type": "execute_result"
    }
   ],
   "source": [
    "train_data_features.toarray().shape"
   ]
  },
  {
   "cell_type": "code",
   "execution_count": 79,
   "metadata": {
    "collapsed": false
   },
   "outputs": [
    {
     "name": "stdout",
     "output_type": "stream",
     "text": [
      "14863\n",
      "(14863, 300)\n"
     ]
    }
   ],
   "source": [
    "print len(pd.to_numeric(cleaned_df[msk][\"pos\"]))\n",
    "print train_data_features.toarray().shape"
   ]
  },
  {
   "cell_type": "code",
   "execution_count": 80,
   "metadata": {
    "collapsed": false
   },
   "outputs": [],
   "source": [
    "df_uq = pd.DataFrame(train_data_features.toarray())\n",
    "df_uq[\"label\"] = pd.Series(cleaned_df[msk][\"pos\"].map({True: 1, False: 0}).values)\n",
    "df_uq = df_uq.drop_duplicates()"
   ]
  },
  {
   "cell_type": "code",
   "execution_count": 81,
   "metadata": {
    "collapsed": false
   },
   "outputs": [
    {
     "data": {
      "text/plain": [
       "11383"
      ]
     },
     "execution_count": 81,
     "metadata": {},
     "output_type": "execute_result"
    }
   ],
   "source": [
    "len(df_uq)"
   ]
  },
  {
   "cell_type": "markdown",
   "metadata": {},
   "source": [
    "## model"
   ]
  },
  {
   "cell_type": "code",
   "execution_count": 82,
   "metadata": {
    "collapsed": true
   },
   "outputs": [],
   "source": [
    "from sklearn.linear_model import LogisticRegression, ElasticNetCV, LogisticRegressionCV\n",
    "from sklearn.metrics import make_scorer, auc, roc_auc_score, roc_curve"
   ]
  },
  {
   "cell_type": "code",
   "execution_count": 83,
   "metadata": {
    "collapsed": false
   },
   "outputs": [],
   "source": [
    "lr_model = LogisticRegressionCV(penalty='l1', solver=\"liblinear\", scoring=make_scorer(roc_auc_score))\n"
   ]
  },
  {
   "cell_type": "code",
   "execution_count": 84,
   "metadata": {
    "collapsed": false
   },
   "outputs": [
    {
     "data": {
      "text/plain": [
       "LogisticRegressionCV(Cs=10, class_weight=None, cv=None, dual=False,\n",
       "           fit_intercept=True, intercept_scaling=1.0, max_iter=100,\n",
       "           multi_class='ovr', n_jobs=1, penalty='l1', random_state=None,\n",
       "           refit=True, scoring=make_scorer(roc_auc_score),\n",
       "           solver='liblinear', tol=0.0001, verbose=0)"
      ]
     },
     "execution_count": 84,
     "metadata": {},
     "output_type": "execute_result"
    }
   ],
   "source": [
    "lr_model.fit(df_uq[range(n_words)].values, df_uq[\"label\"].values)"
   ]
  },
  {
   "cell_type": "code",
   "execution_count": 85,
   "metadata": {
    "collapsed": false
   },
   "outputs": [
    {
     "data": {
      "text/plain": [
       "LogisticRegressionCV(Cs=10, class_weight=None, cv=None, dual=False,\n",
       "           fit_intercept=True, intercept_scaling=1.0, max_iter=100,\n",
       "           multi_class='ovr', n_jobs=1, penalty='l1', random_state=None,\n",
       "           refit=True, scoring=make_scorer(roc_auc_score),\n",
       "           solver='liblinear', tol=0.0001, verbose=0)"
      ]
     },
     "execution_count": 85,
     "metadata": {},
     "output_type": "execute_result"
    }
   ],
   "source": [
    "lr_model.fit(train_data_features, cleaned_df[\"pos\"][msk].values)"
   ]
  },
  {
   "cell_type": "code",
   "execution_count": 86,
   "metadata": {
    "collapsed": false
   },
   "outputs": [
    {
     "name": "stdout",
     "output_type": "stream",
     "text": [
      "train auc 0.706171080424\n"
     ]
    },
    {
     "data": {
      "image/png": "[encoded data removed]",
      "text/plain": [
       "<matplotlib.figure.Figure at 0x7f11717620d0>"
      ]
     },
     "metadata": {},
     "output_type": "display_data"
    }
   ],
   "source": [
    "roc_data = roc_curve(pd.to_numeric(cleaned_df[msk][\"pos\"]), [x[1] for x in lr_model.predict_proba(train_data_features.toarray())])\n",
    "plt.plot(roc_data[0].tolist(), roc_data[1].tolist())\n",
    "print 'train auc', auc(roc_data[0], roc_data[1])"
   ]
  },
  {
   "cell_type": "code",
   "execution_count": 87,
   "metadata": {
    "collapsed": false
   },
   "outputs": [
    {
     "name": "stdout",
     "output_type": "stream",
     "text": [
      "test auc 0.650719098302\n"
     ]
    },
    {
     "data": {
      "image/png": "[encoded data removed]",
      "text/plain": [
       "<matplotlib.figure.Figure at 0x7f1172295d10>"
      ]
     },
     "metadata": {},
     "output_type": "display_data"
    }
   ],
   "source": [
    "roc_data = roc_curve(pd.to_numeric(cleaned_df[~msk][\"pos\"]), [x[1] for x in lr_model.predict_proba(test_data_features.toarray())])\n",
    "plt.plot(roc_data[0].tolist(), roc_data[1].tolist())\n",
    "print 'test auc', auc(roc_data[0], roc_data[1])"
   ]
  },
  {
   "cell_type": "code",
   "execution_count": 43,
   "metadata": {
    "collapsed": false
   },
   "outputs": [
    {
     "data": {
      "text/plain": [
       "array([ 1.65492764])"
      ]
     },
     "execution_count": 43,
     "metadata": {},
     "output_type": "execute_result"
    }
   ],
   "source": [
    "lr_model.intercept_"
   ]
  },
  {
   "cell_type": "code",
   "execution_count": 44,
   "metadata": {
    "collapsed": false
   },
   "outputs": [
    {
     "data": {
      "text/plain": [
       "(-2.824675878300118, 6.9094005200409896)"
      ]
     },
     "execution_count": 44,
     "metadata": {},
     "output_type": "execute_result"
    }
   ],
   "source": [
    "min(lr_model.coef_[0]), max(lr_model.coef_[0])"
   ]
  },
  {
   "cell_type": "code",
   "execution_count": 45,
   "metadata": {
    "collapsed": false
   },
   "outputs": [
    {
     "data": {
      "text/plain": [
       "0.9005847953216374"
      ]
     },
     "execution_count": 45,
     "metadata": {},
     "output_type": "execute_result"
    }
   ],
   "source": [
    "similar(*filtered_df[filtered_df[\"text\"].str.lower().str.contains(\"explorer\")][\"text\"].values[0:2])"
   ]
  },
  {
   "cell_type": "code",
   "execution_count": 89,
   "metadata": {
    "collapsed": false,
    "scrolled": true
   },
   "outputs": [
    {
     "name": "stdout",
     "output_type": "stream",
     "text": [
      "-1.55264631435 miss\n",
      "-1.36817905022 hate\n",
      "-1.28262319351 wish\n",
      "-1.02502225543 fucking\n",
      "1.00424573609 great\n",
      "1.05965672746 awesome\n",
      "1.06597815901 hey\n",
      "1.09429115222 thanks\n",
      "1.13185189717 sun\n",
      "1.14539521307 perfect\n",
      "1.21661453491 tweet\n",
      "1.24213621901 maybe\n",
      "1.52612425185 thank\n",
      "1.65493422776 mate\n",
      "1.74489781121 haha\n",
      "2.0818206506 cheers\n",
      "2.39478368858 chase\n"
     ]
    }
   ],
   "source": [
    "for v, feat in sorted(zip(lr_model.coef_[0], vectorizer.get_feature_names()), key=lambda x: x[0]):\n",
    "    if abs(v) > 1:\n",
    "        print v, feat"
   ]
  },
  {
   "cell_type": "code",
   "execution_count": 90,
   "metadata": {
    "collapsed": false
   },
   "outputs": [
    {
     "data": {
      "image/png": "[encoded data removed]",
      "text/plain": [
       "<matplotlib.figure.Figure at 0x7f116e9c7590>"
      ]
     },
     "metadata": {},
     "output_type": "display_data"
    }
   ],
   "source": [
    "plot_top_n = 10\n",
    "coeffs = sorted(zip(lr_model.coef_[0], vectorizer.get_feature_names()), key=lambda x: x[0])\n",
    "\n",
    "fig, axes = plt.subplots(ncols=2)\n",
    "y = range(plot_top_n)\n",
    "axes[0].barh(y, [x[0] for x in coeffs[-plot_top_n:]], align='center', color='green', zorder=10)\n",
    "axes[0].set(title='Positively Connotated Words')\n",
    "negs = coeffs[:plot_top_n]\n",
    "negs.reverse()\n",
    "axes[1].barh(y, [abs(x[0]) for x in negs], align='center', color='red', zorder=10)\n",
    "axes[1].set(title='Negatively Connotated Words')\n",
    "\n",
    "axes[0].set_ylim((-1, plot_top_n))\n",
    "axes[1].set_ylim((-1, plot_top_n))\n",
    "\n",
    "x_lim = max(coeffs[0][0], coeffs[-1][0]) * 1.01\n",
    "axes[0].set_xlim((0, x_lim))\n",
    "axes[1].set_xlim((0, x_lim))\n",
    "\n",
    "axes[0].invert_xaxis()\n",
    "axes[0].set(yticks=y, yticklabels=[x[1] for x in coeffs[-plot_top_n:]])\n",
    "axes[0].yaxis.tick_right()\n",
    "\n",
    "axes[1].set(yticks=y, yticklabels=[x[1] for x in negs])\n",
    "\n",
    "for ax in axes.flat:\n",
    "    ax.margins(0.03)\n",
    "    ax.grid(True)\n",
    "\n",
    "fig.tight_layout()\n",
    "fig.subplots_adjust(wspace=0.71)"
   ]
  },
  {
   "cell_type": "markdown",
   "metadata": {},
   "source": [
    "Although model performance is not so great, the feature importance which we want makes sense!"
   ]
  },
  {
   "cell_type": "code",
   "execution_count": 91,
   "metadata": {
    "collapsed": false
   },
   "outputs": [
    {
     "name": "stdout",
     "output_type": "stream",
     "text": [
      "cold -0.0858306386896\n"
     ]
    }
   ],
   "source": [
    "for x in coeffs:\n",
    "    if x[1] in (\"warm\", \"cold\"):\n",
    "        print x[1], x[0]"
   ]
  },
  {
   "cell_type": "code",
   "execution_count": 112,
   "metadata": {
    "collapsed": false
   },
   "outputs": [
    {
     "name": "stdout",
     "output_type": "stream",
     "text": [
      "Training the random forest...\n"
     ]
    },
    {
     "data": {
      "text/plain": [
       "GridSearchCV(cv=10, error_score='raise',\n",
       "       estimator=RandomForestClassifier(bootstrap=True, class_weight=None, criterion='gini',\n",
       "            max_depth=None, max_features=3, max_leaf_nodes=None,\n",
       "            min_impurity_split=1e-07, min_samples_leaf=1,\n",
       "            min_samples_split=2, min_weight_fraction_leaf=0.0,\n",
       "            n_estimators=10, n_jobs=1, oob_score=True, random_state=None,\n",
       "            verbose=0, warm_start=False),\n",
       "       fit_params={}, iid=True, n_jobs=1,\n",
       "       param_grid={'n_estimators': [100], 'max_features': [1, 2, 3, 4, 'log2'], 'max_depth': [15, 25, 50]},\n",
       "       pre_dispatch='2*n_jobs', refit=True, return_train_score=True,\n",
       "       scoring='roc_auc', verbose=0)"
      ]
     },
     "execution_count": 112,
     "metadata": {},
     "output_type": "execute_result"
    }
   ],
   "source": [
    "print \"Training the random forest...\"\n",
    "from sklearn.ensemble import RandomForestClassifier\n",
    "from sklearn.model_selection import GridSearchCV\n",
    "from sklearn.metrics import make_scorer\n",
    "\n",
    "# Initialize a Random Forest classifier with 100 trees\n",
    "forest = RandomForestClassifier(oob_score=True, max_features=3) \n",
    "\n",
    "# Fit the forest to the training set, using the bag of words as \n",
    "# features and the sentiment labels as the response variable\n",
    "#\n",
    "# This may take a few minutes to run\n",
    "\n",
    "param_grid = {\n",
    "                 'n_estimators': [100],\n",
    "                 'max_depth': [15, 25, 50],\n",
    "                 'max_features': [1, 2, 3, 4, 'log2']\n",
    "             }\n",
    "grid_clf = GridSearchCV(forest, param_grid, cv=10, scoring='roc_auc')\n",
    "grid_clf.fit(train_data_features.toarray(), pd.to_numeric(cleaned_df[msk][\"pos\"]))"
   ]
  },
  {
   "cell_type": "code",
   "execution_count": 113,
   "metadata": {
    "collapsed": false
   },
   "outputs": [
    {
     "name": "stderr",
     "output_type": "stream",
     "text": [
      "/home/paul/anaconda2/lib/python2.7/site-packages/sklearn/model_selection/_search.py:667: DeprecationWarning: The grid_scores_ attribute was deprecated in version 0.18 in favor of the more elaborate cv_results_ attribute. The grid_scores_ attribute will not be available from 0.20\n",
      "  DeprecationWarning)\n"
     ]
    },
    {
     "data": {
      "text/plain": [
       "[mean: 0.63228, std: 0.01922, params: {'max_features': 1, 'n_estimators': 100, 'max_depth': 15},\n",
       " mean: 0.63413, std: 0.02641, params: {'max_features': 2, 'n_estimators': 100, 'max_depth': 15},\n",
       " mean: 0.63535, std: 0.02256, params: {'max_features': 3, 'n_estimators': 100, 'max_depth': 15},\n",
       " mean: 0.63434, std: 0.02591, params: {'max_features': 4, 'n_estimators': 100, 'max_depth': 15},\n",
       " mean: 0.63291, std: 0.02461, params: {'max_features': 'log2', 'n_estimators': 100, 'max_depth': 15},\n",
       " mean: 0.63261, std: 0.02336, params: {'max_features': 1, 'n_estimators': 100, 'max_depth': 25},\n",
       " mean: 0.63706, std: 0.02405, params: {'max_features': 2, 'n_estimators': 100, 'max_depth': 25},\n",
       " mean: 0.64059, std: 0.02565, params: {'max_features': 3, 'n_estimators': 100, 'max_depth': 25},\n",
       " mean: 0.63431, std: 0.02607, params: {'max_features': 4, 'n_estimators': 100, 'max_depth': 25},\n",
       " mean: 0.63640, std: 0.02354, params: {'max_features': 'log2', 'n_estimators': 100, 'max_depth': 25},\n",
       " mean: 0.62526, std: 0.02324, params: {'max_features': 1, 'n_estimators': 100, 'max_depth': 50},\n",
       " mean: 0.63534, std: 0.02364, params: {'max_features': 2, 'n_estimators': 100, 'max_depth': 50},\n",
       " mean: 0.63255, std: 0.02614, params: {'max_features': 3, 'n_estimators': 100, 'max_depth': 50},\n",
       " mean: 0.63127, std: 0.02470, params: {'max_features': 4, 'n_estimators': 100, 'max_depth': 50},\n",
       " mean: 0.63301, std: 0.02229, params: {'max_features': 'log2', 'n_estimators': 100, 'max_depth': 50}]"
      ]
     },
     "execution_count": 113,
     "metadata": {},
     "output_type": "execute_result"
    }
   ],
   "source": [
    "grid_clf.grid_scores_"
   ]
  },
  {
   "cell_type": "code",
   "execution_count": 114,
   "metadata": {
    "collapsed": false
   },
   "outputs": [
    {
     "data": {
      "text/plain": [
       "1.0000000000000002"
      ]
     },
     "execution_count": 114,
     "metadata": {},
     "output_type": "execute_result"
    }
   ],
   "source": [
    "forest = grid_clf.best_estimator_\n",
    "sum(forest.feature_importances_)"
   ]
  },
  {
   "cell_type": "code",
   "execution_count": 115,
   "metadata": {
    "collapsed": false
   },
   "outputs": [
    {
     "name": "stdout",
     "output_type": "stream",
     "text": [
      "0.0285751399541 https\n",
      "0.0276801953581 co\n",
      "0.0193890777862 want\n",
      "0.017715413459 beer\n",
      "0.0144085772274 miss\n",
      "0.0138034858715 amp\n",
      "0.0101462069284 wish\n",
      "0.0100999254797 like\n",
      "0.0100291736322 hate\n",
      "0.00943041185451 drink\n",
      "0.00938561453249 wanna\n",
      "0.00928973990866 bad\n",
      "0.00898854164368 get\n",
      "0.00878898131827 fucking\n",
      "0.00818942218262 go\n",
      "0.00805881442813 root\n",
      "0.00786822379087 need\n",
      "0.00773564801626 work\n",
      "0.00769231165788 good\n",
      "0.0076292085404 one\n"
     ]
    }
   ],
   "source": [
    "for v, feat in sorted(zip(forest.feature_importances_, vectorizer.get_feature_names()), key=lambda x: x[0], reverse=True)[:20]:\n",
    "    print v, feat"
   ]
  },
  {
   "cell_type": "code",
   "execution_count": 96,
   "metadata": {
    "collapsed": false
   },
   "outputs": [
    {
     "data": {
      "text/plain": [
       "0.85850770369373608"
      ]
     },
     "execution_count": 96,
     "metadata": {},
     "output_type": "execute_result"
    }
   ],
   "source": [
    "forest.oob_score_"
   ]
  },
  {
   "cell_type": "code",
   "execution_count": 97,
   "metadata": {
    "collapsed": false
   },
   "outputs": [
    {
     "data": {
      "text/plain": [
       "(14863, 300)"
      ]
     },
     "execution_count": 97,
     "metadata": {},
     "output_type": "execute_result"
    }
   ],
   "source": [
    "train_data_features.toarray().shape"
   ]
  },
  {
   "cell_type": "code",
   "execution_count": 98,
   "metadata": {
    "collapsed": false,
    "scrolled": false
   },
   "outputs": [
    {
     "name": "stdout",
     "output_type": "stream",
     "text": [
      "300\n"
     ]
    }
   ],
   "source": [
    "# Take a look at the words in the vocabulary\n",
    "vocab = vectorizer.get_feature_names()\n",
    "print len(vocab)"
   ]
  },
  {
   "cell_type": "code",
   "execution_count": 99,
   "metadata": {
    "collapsed": false
   },
   "outputs": [
    {
     "data": {
      "text/plain": [
       "False"
      ]
     },
     "execution_count": 99,
     "metadata": {},
     "output_type": "execute_result"
    }
   ],
   "source": [
    "\"lager\" in vocab"
   ]
  },
  {
   "cell_type": "code",
   "execution_count": 100,
   "metadata": {
    "collapsed": false
   },
   "outputs": [
    {
     "data": {
      "text/plain": [
       "True"
      ]
     },
     "execution_count": 100,
     "metadata": {},
     "output_type": "execute_result"
    }
   ],
   "source": [
    "\"ipa\" in vocab"
   ]
  },
  {
   "cell_type": "code",
   "execution_count": 101,
   "metadata": {
    "collapsed": false
   },
   "outputs": [
    {
     "data": {
      "text/plain": [
       "False"
      ]
     },
     "execution_count": 101,
     "metadata": {},
     "output_type": "execute_result"
    }
   ],
   "source": [
    "\"pils\" in vocab"
   ]
  },
  {
   "cell_type": "code",
   "execution_count": 102,
   "metadata": {
    "collapsed": false
   },
   "outputs": [
    {
     "data": {
      "text/plain": [
       "False"
      ]
     },
     "execution_count": 102,
     "metadata": {},
     "output_type": "execute_result"
    }
   ],
   "source": [
    "\"pilsner\" in vocab"
   ]
  },
  {
   "cell_type": "code",
   "execution_count": 103,
   "metadata": {
    "collapsed": false
   },
   "outputs": [
    {
     "data": {
      "text/plain": [
       "False"
      ]
     },
     "execution_count": 103,
     "metadata": {},
     "output_type": "execute_result"
    }
   ],
   "source": [
    "\"heineken\" in vocab"
   ]
  },
  {
   "cell_type": "code",
   "execution_count": 104,
   "metadata": {
    "collapsed": false
   },
   "outputs": [
    {
     "data": {
      "text/plain": [
       "False"
      ]
     },
     "execution_count": 104,
     "metadata": {},
     "output_type": "execute_result"
    }
   ],
   "source": [
    "\"paulaner\" in vocab"
   ]
  },
  {
   "cell_type": "code",
   "execution_count": 105,
   "metadata": {
    "collapsed": false
   },
   "outputs": [
    {
     "name": "stdout",
     "output_type": "stream",
     "text": [
      "[[   73    84   114    66   104   130   191  1077   130    76    70   107\n",
      "    159    94    79   252   153   153    71    81 13101    80    76   245\n",
      "    228    98   134    81   185   131    86    77    70   132    62    63\n",
      "     67   313    78    61    81    70    99   106    62   139    71    67\n",
      "   5726    98   346   296    67    73    73   162   198    93    83   223\n",
      "     82   447    97    94   110   111   770   940    94   154    97    77\n",
      "     71    89   134    87   238   143   126   132    67    90   108    66\n",
      "    111    64    95   231    68   266    66   233   121   110   110   165\n",
      "    132    92    85   130   156   142    77   676    91   182    66   123\n",
      "     67   136    84   452    68    78   266   162   658   479    89   380\n",
      "     82    70   143   144   116    72   130   232    84    67    77    72\n",
      "     62    97    63   235   142   127    70    63   196  5773   118    64\n",
      "    128    87   113    75    87   329   301    92   168   203    83   883\n",
      "     83    63    76   111    94   114    65   368   111   119    85    77\n",
      "     77   455    62   154    79   195   110    78   199    72    80    63\n",
      "    103    88    86   200    92    77   258   170    70   286   182   241\n",
      "    163   179   515    95   208    82   158    66   564   162    70   155\n",
      "    219    95   177   199    70   118    90    93    80   469    84    75\n",
      "     80    82   106   202    86   212   272    85   212   106   148    97\n",
      "    242   181    71    65    63    72   140    90    89    63    75    68\n",
      "    211    86    65   125    63    73   134   160   101    86    74    83\n",
      "    198   123    82   242    96   117   108   487    64   289    99   114\n",
      "    324    77    64    70   131    97    86   163   284    62    64   141\n",
      "    117   309    73    94   111   141   201   101   178   261   114    69\n",
      "    301    75    93    68   302    65    85   248    93   130   121   127]] actually\n"
     ]
    }
   ],
   "source": [
    "# Sum up the counts of each vocabulary word\n",
    "dist = np.sum(train_data_features, axis=0)\n",
    "\n",
    "# For each, print the vocabulary word and the number of times it \n",
    "# appears in the training set\n",
    "for tag, count in zip(vocab, dist):\n",
    "    print count, tag\n"
   ]
  },
  {
   "cell_type": "code",
   "execution_count": 106,
   "metadata": {
    "collapsed": false
   },
   "outputs": [
    {
     "data": {
      "text/plain": [
       "[(u'actually', 73),\n",
       " (u'alcohol', 84),\n",
       " (u'ale', 114),\n",
       " (u'almost', 66),\n",
       " (u'already', 104),\n",
       " (u'also', 130),\n",
       " (u'always', 191),\n",
       " (u'amp', 1077),\n",
       " (u'another', 130),\n",
       " (u'around', 76),\n",
       " (u'ask', 70),\n",
       " (u'asked', 107),\n",
       " (u'ass', 159),\n",
       " (u'away', 94),\n",
       " (u'awesome', 79),\n",
       " (u'back', 252),\n",
       " (u'bad', 153),\n",
       " (u'bar', 153),\n",
       " (u'bc', 71),\n",
       " (u'beach', 81),\n",
       " (u'beer', 13101),\n",
       " (u'beers', 80),\n",
       " (u'belly', 76),\n",
       " (u'best', 245),\n",
       " (u'better', 228),\n",
       " (u'big', 98),\n",
       " (u'birthday', 134),\n",
       " (u'bong', 81),\n",
       " (u'bottle', 185),\n",
       " (u'bottles', 131),\n",
       " (u'bought', 86),\n",
       " (u'brewery', 77),\n",
       " (u'brewing', 70),\n",
       " (u'bring', 132),\n",
       " (u'bro', 62),\n",
       " (u'brother', 63),\n",
       " (u'butter', 67),\n",
       " (u'buy', 313),\n",
       " (u'came', 78),\n",
       " (u'cans', 61),\n",
       " (u'car', 81),\n",
       " (u'case', 70),\n",
       " (u'cause', 99),\n",
       " (u'chase', 106),\n",
       " (u'check', 62),\n",
       " (u'cheers', 139),\n",
       " (u'cheese', 71),\n",
       " (u'chill', 67),\n",
       " (u'co', 5726),\n",
       " (u'coffee', 98),\n",
       " (u'cold', 346),\n",
       " (u'come', 296),\n",
       " (u'coming', 67),\n",
       " (u'company', 73),\n",
       " (u'cool', 73),\n",
       " (u'could', 162),\n",
       " (u'craft', 198),\n",
       " (u'craftbeer', 93),\n",
       " (u'cup', 83),\n",
       " (u'dad', 223),\n",
       " (u'damn', 82),\n",
       " (u'day', 447),\n",
       " (u'days', 97),\n",
       " (u'dinner', 94),\n",
       " (u'done', 110),\n",
       " (u'drank', 111),\n",
       " (u'drink', 770),\n",
       " (u'drinking', 940),\n",
       " (u'drinks', 94),\n",
       " (u'drunk', 154),\n",
       " (u'dude', 97),\n",
       " (u'eat', 77),\n",
       " (u'eating', 71),\n",
       " (u'end', 89),\n",
       " (u'enjoy', 134),\n",
       " (u'enough', 87),\n",
       " (u'even', 238),\n",
       " (u'ever', 143),\n",
       " (u'every', 126),\n",
       " (u'everyone', 132),\n",
       " (u'family', 67),\n",
       " (u'favorite', 90),\n",
       " (u'feel', 108),\n",
       " (u'fest', 66),\n",
       " (u'festival', 111),\n",
       " (u'finally', 64),\n",
       " (u'find', 95),\n",
       " (u'first', 231),\n",
       " (u'float', 68),\n",
       " (u'food', 266),\n",
       " (u'found', 66),\n",
       " (u'free', 233),\n",
       " (u'friday', 121),\n",
       " (u'fridge', 110),\n",
       " (u'friend', 110),\n",
       " (u'friends', 165),\n",
       " (u'fuck', 132),\n",
       " (u'fucking', 92),\n",
       " (u'full', 85),\n",
       " (u'fun', 130),\n",
       " (u'game', 156),\n",
       " (u'garden', 142),\n",
       " (u'gave', 77),\n",
       " (u'get', 676),\n",
       " (u'gets', 91),\n",
       " (u'getting', 182),\n",
       " (u'ginger', 66),\n",
       " (u'girl', 123),\n",
       " (u'girls', 67),\n",
       " (u'give', 136),\n",
       " (u'glass', 84),\n",
       " (u'go', 452),\n",
       " (u'god', 68),\n",
       " (u'goes', 78),\n",
       " (u'going', 266),\n",
       " (u'gonna', 162),\n",
       " (u'good', 658),\n",
       " (u'got', 479),\n",
       " (u'grab', 89),\n",
       " (u'great', 380),\n",
       " (u'gt', 82),\n",
       " (u'guess', 70),\n",
       " (u'guy', 143),\n",
       " (u'guys', 144),\n",
       " (u'haha', 116),\n",
       " (u'half', 72),\n",
       " (u'hand', 130),\n",
       " (u'happy', 232),\n",
       " (u'hard', 84),\n",
       " (u'hate', 67),\n",
       " (u'head', 77),\n",
       " (u'hell', 72),\n",
       " (u'help', 62),\n",
       " (u'hey', 97),\n",
       " (u'hit', 63),\n",
       " (u'home', 235),\n",
       " (u'hope', 142),\n",
       " (u'hot', 127),\n",
       " (u'hour', 70),\n",
       " (u'hours', 63),\n",
       " (u'house', 196),\n",
       " (u'https', 5773),\n",
       " (u'ice', 118),\n",
       " (u'id', 64),\n",
       " (u'im', 128),\n",
       " (u'instead', 87),\n",
       " (u'ipa', 113),\n",
       " (u'job', 75),\n",
       " (u'keep', 87),\n",
       " (u'know', 329),\n",
       " (u'last', 301),\n",
       " (u'left', 92),\n",
       " (u'let', 168),\n",
       " (u'life', 203),\n",
       " (u'light', 83),\n",
       " (u'like', 883),\n",
       " (u'liquor', 83),\n",
       " (u'lit', 63),\n",
       " (u'literally', 76),\n",
       " (u'little', 111),\n",
       " (u'live', 94),\n",
       " (u'lmao', 114),\n",
       " (u'local', 65),\n",
       " (u'lol', 368),\n",
       " (u'long', 111),\n",
       " (u'look', 119),\n",
       " (u'looking', 85),\n",
       " (u'looks', 77),\n",
       " (u'lot', 77),\n",
       " (u'love', 455),\n",
       " (u'lunch', 62),\n",
       " (u'made', 154),\n",
       " (u'madison', 79),\n",
       " (u'make', 195),\n",
       " (u'makes', 110),\n",
       " (u'making', 78),\n",
       " (u'man', 199),\n",
       " (u'many', 72),\n",
       " (u'mate', 80),\n",
       " (u'may', 63),\n",
       " (u'maybe', 103),\n",
       " (u'might', 88),\n",
       " (u'miss', 86),\n",
       " (u'mom', 200),\n",
       " (u'money', 92),\n",
       " (u'morning', 77),\n",
       " (u'much', 258),\n",
       " (u'music', 170),\n",
       " (u'must', 70),\n",
       " (u'need', 286),\n",
       " (u'never', 182),\n",
       " (u'new', 241),\n",
       " (u'next', 163),\n",
       " (u'nice', 179),\n",
       " (u'night', 515),\n",
       " (u'nothing', 95),\n",
       " (u'oh', 208),\n",
       " (u'ok', 82),\n",
       " (u'old', 158),\n",
       " (u'omg', 66),\n",
       " (u'one', 564),\n",
       " (u'open', 162),\n",
       " (u'pack', 70),\n",
       " (u'party', 155),\n",
       " (u'people', 219),\n",
       " (u'perfect', 95),\n",
       " (u'photo', 177),\n",
       " (u'pizza', 199),\n",
       " (u'place', 70),\n",
       " (u'play', 118),\n",
       " (u'playing', 90),\n",
       " (u'please', 93),\n",
       " (u'pm', 80),\n",
       " (u'pong', 469),\n",
       " (u'pretty', 84),\n",
       " (u'pub', 75),\n",
       " (u'put', 80),\n",
       " (u'ready', 82),\n",
       " (u'real', 106),\n",
       " (u'really', 202),\n",
       " (u'remember', 86),\n",
       " (u'right', 212),\n",
       " (u'root', 272),\n",
       " (u'run', 85),\n",
       " (u'said', 212),\n",
       " (u'saturday', 106),\n",
       " (u'say', 148),\n",
       " (u'says', 97),\n",
       " (u'see', 242),\n",
       " (u'shit', 181),\n",
       " (u'shot', 71),\n",
       " (u'show', 65),\n",
       " (u'since', 63),\n",
       " (u'sitting', 72),\n",
       " (u'someone', 140),\n",
       " (u'something', 90),\n",
       " (u'soon', 89),\n",
       " (u'sorry', 63),\n",
       " (u'sounds', 75),\n",
       " (u'start', 68),\n",
       " (u'still', 211),\n",
       " (u'stop', 86),\n",
       " (u'store', 65),\n",
       " (u'summer', 125),\n",
       " (u'sun', 63),\n",
       " (u'sunday', 73),\n",
       " (u'sure', 134),\n",
       " (u'take', 160),\n",
       " (u'taste', 101),\n",
       " (u'tell', 86),\n",
       " (u'th', 74),\n",
       " (u'thank', 83),\n",
       " (u'thanks', 198),\n",
       " (u'thing', 123),\n",
       " (u'things', 82),\n",
       " (u'think', 242),\n",
       " (u'tho', 96),\n",
       " (u'though', 117),\n",
       " (u'thought', 108),\n",
       " (u'time', 487),\n",
       " (u'times', 64),\n",
       " (u'today', 289),\n",
       " (u'told', 99),\n",
       " (u'tomorrow', 114),\n",
       " (u'tonight', 324),\n",
       " (u'took', 77),\n",
       " (u'top', 64),\n",
       " (u'tried', 70),\n",
       " (u'try', 131),\n",
       " (u'trying', 97),\n",
       " (u'tweet', 86),\n",
       " (u'two', 163),\n",
       " (u'us', 284),\n",
       " (u'via', 62),\n",
       " (u'vodka', 64),\n",
       " (u'wait', 141),\n",
       " (u'wanna', 117),\n",
       " (u'want', 309),\n",
       " (u'wanted', 73),\n",
       " (u'watch', 94),\n",
       " (u'watching', 111),\n",
       " (u'water', 141),\n",
       " (u'way', 201),\n",
       " (u'week', 101),\n",
       " (u'weekend', 178),\n",
       " (u'well', 261),\n",
       " (u'went', 114),\n",
       " (u'whole', 69),\n",
       " (u'wine', 301),\n",
       " (u'wings', 75),\n",
       " (u'wish', 93),\n",
       " (u'without', 68),\n",
       " (u'work', 302),\n",
       " (u'working', 65),\n",
       " (u'world', 85),\n",
       " (u'would', 248),\n",
       " (u'ya', 93),\n",
       " (u'yeah', 130),\n",
       " (u'year', 121),\n",
       " (u'yes', 127)]"
      ]
     },
     "execution_count": 106,
     "metadata": {},
     "output_type": "execute_result"
    }
   ],
   "source": [
    "zip(vocab, dist.A1)"
   ]
  },
  {
   "cell_type": "markdown",
   "metadata": {
    "collapsed": true
   },
   "source": [
    "The random forest doesn't work as well since it has problems if many values are 0. The maximum gain in gini impurity is low, even if the separation is perfect at this feature"
   ]
  },
  {
   "cell_type": "code",
   "execution_count": null,
   "metadata": {
    "collapsed": true
   },
   "outputs": [],
   "source": []
  }
 ],
 "metadata": {
  "anaconda-cloud": {},
  "kernelspec": {
   "display_name": "Python 2",
   "language": "python",
   "name": "python2"
  },
  "language_info": {
   "codemirror_mode": {
    "name": "ipython",
    "version": 2
   },
   "file_extension": ".py",
   "mimetype": "text/x-python",
   "name": "python",
   "nbconvert_exporter": "python",
   "pygments_lexer": "ipython2",
   "version": "2.7.13"
  }
 },
 "nbformat": 4,
 "nbformat_minor": 1
}
